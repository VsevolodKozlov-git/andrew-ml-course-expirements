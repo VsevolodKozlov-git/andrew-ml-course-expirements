{
 "cells": [
  {
   "cell_type": "markdown",
   "source": [
    "### Реализация линейной регресси без жесткого ООП, но с поддержкой порядочного наследования"
   ],
   "metadata": {
    "collapsed": false
   }
  },
  {
   "cell_type": "code",
   "execution_count": 22,
   "metadata": {
    "collapsed": true
   },
   "outputs": [],
   "source": [
    "import numpy as np\n",
    "import matplotlib.pyplot as plt\n",
    "from scipy.optimize import minimize\n",
    "import mod_linear_regression as lr_module\n",
    "from importlib import  reload"
   ]
  },
  {
   "cell_type": "code",
   "execution_count": 24,
   "outputs": [
    {
     "data": {
      "text/plain": "<Figure size 432x288 with 1 Axes>",
      "image/png": "[encoded data removed]"
     },
     "metadata": {
      "needs_background": "light"
     },
     "output_type": "display_data"
    }
   ],
   "source": [
    "def create_third_polynomial_features(X):\n",
    "    return np.hstack([np.ones_like(X),\n",
    "               X,\n",
    "               X**2,\n",
    "               X**3])\n",
    "\n",
    "np.random.seed(10)\n",
    "X = np.linspace(-5, 5, 20)[:, np.newaxis] + np.random.normal(0, 0.5, (20, 1))\n",
    "Y = X ** 3 + np.random.normal(0, 5, (20, 1))\n",
    "plt.scatter(X, Y)\n",
    "polynomial_X = create_third_polynomial_features(X)\n",
    "init_theta = np.random.rand(4)\n"
   ],
   "metadata": {
    "collapsed": false,
    "pycharm": {
     "name": "#%%\n"
    }
   }
  },
  {
   "cell_type": "code",
   "execution_count": 28,
   "outputs": [
    {
     "data": {
      "text/plain": "<matplotlib.collections.PathCollection at 0x7f577c501d00>"
     },
     "execution_count": 28,
     "metadata": {},
     "output_type": "execute_result"
    },
    {
     "data": {
      "text/plain": "<Figure size 432x288 with 1 Axes>",
      "image/png": "[encoded data removed]"
     },
     "metadata": {
      "needs_background": "light"
     },
     "output_type": "display_data"
    }
   ],
   "source": [
    "def plot_optimized_linear_regression():\n",
    "    lr = lr_module.LinearRegressionCore()\n",
    "    optimization_result = minimize(lr.get_error_and_grad,\n",
    "                                   init_theta,\n",
    "                                   (polynomial_X, Y),\n",
    "                                   method='TNC',\n",
    "                                   jac=True,\n",
    "                                   options={'maxiter':100})\n",
    "    optimized_theta = optimization_result.x\n",
    "    line_X = np.linspace(-6, 6, 100)[:, np.newaxis]\n",
    "    line_X_polynomial = create_third_polynomial_features(line_X)\n",
    "    line_Y = lr.predict(line_X_polynomial, optimized_theta)\n",
    "    plt.plot(line_X, line_Y)\n",
    "\n",
    "plot_optimized_linear_regression()\n",
    "plt.scatter(X, Y)"
   ],
   "metadata": {
    "collapsed": false,
    "pycharm": {
     "name": "#%%\n"
    }
   }
  }
 ],
 "metadata": {
  "kernelspec": {
   "display_name": "Python 3",
   "language": "python",
   "name": "python3"
  },
  "language_info": {
   "codemirror_mode": {
    "name": "ipython",
    "version": 2
   },
   "file_extension": ".py",
   "mimetype": "text/x-python",
   "name": "python",
   "nbconvert_exporter": "python",
   "pygments_lexer": "ipython2",
   "version": "2.7.6"
  }
 },
 "nbformat": 4,
 "nbformat_minor": 0
}